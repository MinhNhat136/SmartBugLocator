{
 "cells": [
  {
   "cell_type": "code",
   "id": "initial_id",
   "metadata": {
    "collapsed": true,
    "ExecuteTime": {
     "end_time": "2025-04-02T10:23:11.820723Z",
     "start_time": "2025-04-02T10:23:11.816820Z"
    }
   },
   "source": [
    "from preprocessing import Parser\n",
    "from datasets import DATASET"
   ],
   "outputs": [],
   "execution_count": 29
  },
  {
   "metadata": {
    "ExecuteTime": {
     "end_time": "2025-04-02T10:23:12.235316Z",
     "start_time": "2025-04-02T10:23:12.220996Z"
    }
   },
   "cell_type": "code",
   "source": [
    "parser = Parser(DATASET)\n",
    "bug_report = parser.report_parser()"
   ],
   "id": "c5db8c0564ea354f",
   "outputs": [
    {
     "ename": "FileNotFoundError",
     "evalue": "[Errno 2] No such file or directory: '..\\\\data\\\\Tomcat.txt'",
     "output_type": "error",
     "traceback": [
      "\u001B[1;31m---------------------------------------------------------------------------\u001B[0m",
      "\u001B[1;31mFileNotFoundError\u001B[0m                         Traceback (most recent call last)",
      "Cell \u001B[1;32mIn[30], line 2\u001B[0m\n\u001B[0;32m      1\u001B[0m parser \u001B[38;5;241m=\u001B[39m Parser(DATASET)\n\u001B[1;32m----> 2\u001B[0m bug_report \u001B[38;5;241m=\u001B[39m parser\u001B[38;5;241m.\u001B[39mreport_parser()\n",
      "File \u001B[1;32mD:\\GenAI\\LLMs\\BugLocator\\preprocessing.py:33\u001B[0m, in \u001B[0;36mParser.report_parser\u001B[1;34m(self)\u001B[0m\n\u001B[0;32m     32\u001B[0m \u001B[38;5;28;01mdef\u001B[39;00m \u001B[38;5;21mreport_parser\u001B[39m(\u001B[38;5;28mself\u001B[39m):\n\u001B[1;32m---> 33\u001B[0m     reader \u001B[38;5;241m=\u001B[39m csv\u001B[38;5;241m.\u001B[39mDictReader(\u001B[38;5;28mopen\u001B[39m(\u001B[38;5;28mself\u001B[39m\u001B[38;5;241m.\u001B[39mbug_repo, \u001B[38;5;124m\"\u001B[39m\u001B[38;5;124mr\u001B[39m\u001B[38;5;124m\"\u001B[39m), delimiter\u001B[38;5;241m=\u001B[39m\u001B[38;5;124m\"\u001B[39m\u001B[38;5;130;01m\\t\u001B[39;00m\u001B[38;5;124m\"\u001B[39m)\n\u001B[0;32m     34\u001B[0m     bug_reports \u001B[38;5;241m=\u001B[39m OrderedDict()\n\u001B[0;32m     35\u001B[0m     \u001B[38;5;66;03m# raw_texts = []\u001B[39;00m\n\u001B[0;32m     36\u001B[0m     \u001B[38;5;66;03m# fixed_files = []\u001B[39;00m\n",
      "\u001B[1;31mFileNotFoundError\u001B[0m: [Errno 2] No such file or directory: '..\\\\data\\\\Tomcat.txt'"
     ]
    }
   ],
   "execution_count": 30
  },
  {
   "metadata": {
    "ExecuteTime": {
     "end_time": "2025-04-02T10:19:45.664Z",
     "start_time": "2025-04-02T10:19:45.660487Z"
    }
   },
   "cell_type": "code",
   "source": "print(DATASET.bug_repo)",
   "id": "5a5509b03fb0d2e6",
   "outputs": [
    {
     "name": "stdout",
     "output_type": "stream",
     "text": [
      "..\\data\\Tomcat.txt\n"
     ]
    }
   ],
   "execution_count": 23
  },
  {
   "metadata": {
    "ExecuteTime": {
     "end_time": "2025-04-02T10:21:03.755548Z",
     "start_time": "2025-04-02T10:21:03.752390Z"
    }
   },
   "cell_type": "code",
   "source": [
    "import os\n",
    "print(\"Current working directory:\", os.getcwd())\n"
   ],
   "id": "3f3dd5e521671676",
   "outputs": [
    {
     "name": "stdout",
     "output_type": "stream",
     "text": [
      "Current working directory: D:\\GenAI\\LLMs\\BugLocator\n"
     ]
    }
   ],
   "execution_count": 24
  },
  {
   "metadata": {},
   "cell_type": "code",
   "outputs": [],
   "execution_count": null,
   "source": "",
   "id": "d507dc0d8901e8a2"
  }
 ],
 "metadata": {
  "kernelspec": {
   "display_name": "Python 3",
   "language": "python",
   "name": "python3"
  },
  "language_info": {
   "codemirror_mode": {
    "name": "ipython",
    "version": 2
   },
   "file_extension": ".py",
   "mimetype": "text/x-python",
   "name": "python",
   "nbconvert_exporter": "python",
   "pygments_lexer": "ipython2",
   "version": "2.7.6"
  }
 },
 "nbformat": 4,
 "nbformat_minor": 5
}
