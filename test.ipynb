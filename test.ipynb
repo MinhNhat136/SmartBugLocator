{
 "cells": [
  {
   "metadata": {
    "ExecuteTime": {
     "end_time": "2025-04-12T06:41:51.389755Z",
     "start_time": "2025-04-12T06:41:51.383153Z"
    }
   },
   "cell_type": "code",
   "source": [
    "import javalang\n",
    "\n",
    "def segment_java_code(java_code):\n",
    "    tree = javalang.parse.parse(java_code)\n",
    "    lines = java_code.splitlines()\n",
    "    segments = []\n",
    "\n",
    "    for type in tree.types:\n",
    "        for member in type.body:\n",
    "            if not hasattr(member, 'position') or member.position is None:\n",
    "                continue\n",
    "\n",
    "            start_line = member.position.line - 1\n",
    "\n",
    "            open_braces = 0\n",
    "            end_line = start_line\n",
    "            for i in range(start_line, len(lines)):\n",
    "                open_braces += lines[i].count('{')\n",
    "                open_braces -= lines[i].count('}')\n",
    "                if open_braces == 0 and '{' in lines[start_line]:\n",
    "                    end_line = i\n",
    "                    break\n",
    "\n",
    "            code_segment = \"\\n\".join(lines[start_line:end_line + 1])\n",
    "\n",
    "            if isinstance(member, javalang.tree.MethodDeclaration):\n",
    "                segments.append((\"method\", member.name, code_segment))\n",
    "            elif isinstance(member, javalang.tree.ConstructorDeclaration):\n",
    "                segments.append((\"constructor\", member.name, code_segment))\n",
    "\n",
    "    return segments\n"
   ],
   "id": "da3dae5fe583c3ba",
   "outputs": [],
   "execution_count": 6
  },
  {
   "metadata": {
    "ExecuteTime": {
     "end_time": "2025-04-12T06:46:28.242566Z",
     "start_time": "2025-04-12T06:46:28.238379Z"
    }
   },
   "cell_type": "code",
   "source": [
    "def is_relevant_segment(code_segment: str, min_lines=4, skip_keywords=None):\n",
    "    lines = code_segment.strip().splitlines()\n",
    "    if len(lines) < min_lines:\n",
    "        print(len(lines))\n",
    "        return False\n",
    "\n",
    "    signature = lines[0].strip().lower()\n",
    "    if skip_keywords:\n",
    "        for kw in skip_keywords:\n",
    "            if kw.lower() in signature:\n",
    "                return False\n",
    "\n",
    "    return True"
   ],
   "id": "3d4f0faa741f6892",
   "outputs": [],
   "execution_count": 22
  },
  {
   "metadata": {
    "ExecuteTime": {
     "end_time": "2025-04-12T07:11:41.858928Z",
     "start_time": "2025-04-12T07:11:41.854453Z"
    }
   },
   "cell_type": "code",
   "source": [
    "java_code = \"\"\"\n",
    "/*\n",
    " * Licensed to the Apache Software Foundation (ASF) under one or more\n",
    " * contributor license agreements.  See the NOTICE file distributed with\n",
    " * this work for additional information regarding copyright ownership.\n",
    " * The ASF licenses this file to You under the Apache License, Version 2.0\n",
    " * (the \"License\"); you may not use this file except in compliance with\n",
    " * the License.  You may obtain a copy of the License at\n",
    " *\n",
    " *      http://www.apache.org/licenses/LICENSE-2.0\n",
    " *\n",
    " * Unless required by applicable law or agreed to in writing, software\n",
    " * distributed under the License is distributed on an \"AS IS\" BASIS,\n",
    " * WITHOUT WARRANTIES OR CONDITIONS OF ANY KIND, either express or implied.\n",
    " * See the License for the specific language governing permissions and\n",
    " * limitations under the License.\n",
    " */\n",
    "public class MyClass {\n",
    "    public void methodOne() {\n",
    "    }\n",
    "\n",
    "    public void methodTwo() {\n",
    "    System.out.println(\"Hello\");\n",
    "    System.out.println(\"Hello\");\n",
    "    System.out.println(\"Hello\");\n",
    "    System.out.println(\"Hello\");\n",
    "    System.out.println(\"Hello\");\n",
    "    System.out.println(\"Hello\");\n",
    "    System.out.println(\"Hello\");\n",
    "\n",
    "    }\n",
    "\n",
    "    private int methodTwo(int x) {\n",
    "        return x * 2;}\n",
    "\n",
    "    public MyClass() {\n",
    "        // constructor\n",
    "    }\n",
    "\n",
    "    interface MyInterface {\n",
    "        void doSomething();\n",
    "    }\n",
    "}\n",
    "\"\"\"\n",
    "\n",
    "segments = segment_java_code(java_code)\n",
    "\n",
    "for seg_type, name, code in segments:\n",
    "    print(code)\n",
    "    print()\n"
   ],
   "id": "fb60188342e08e3d",
   "outputs": [
    {
     "name": "stdout",
     "output_type": "stream",
     "text": [
      "    public void methodOne() {\n",
      "    }\n",
      "\n",
      "    public void methodTwo() {\n",
      "    System.out.println(\"Hello\");\n",
      "    System.out.println(\"Hello\");\n",
      "    System.out.println(\"Hello\");\n",
      "    System.out.println(\"Hello\");\n",
      "    System.out.println(\"Hello\");\n",
      "    System.out.println(\"Hello\");\n",
      "    System.out.println(\"Hello\");\n",
      "\n",
      "    }\n",
      "\n",
      "    private int methodTwo(int x) {\n",
      "        return x * 2;}\n",
      "\n",
      "    public MyClass() {\n",
      "        // constructor\n",
      "    }\n",
      "\n"
     ]
    }
   ],
   "execution_count": 29
  },
  {
   "metadata": {
    "ExecuteTime": {
     "end_time": "2025-04-12T07:11:42.552529Z",
     "start_time": "2025-04-12T07:11:42.548754Z"
    }
   },
   "cell_type": "code",
   "source": [
    "filtered_segments = []\n",
    "for seg_type, name, code in segments:\n",
    "    if is_relevant_segment(code, min_lines=3, skip_keywords=['toString', 'hashCode', 'equals']):\n",
    "        filtered_segments.append((seg_type, name, code))"
   ],
   "id": "40c3ede11e1100e9",
   "outputs": [
    {
     "name": "stdout",
     "output_type": "stream",
     "text": [
      "2\n",
      "2\n"
     ]
    }
   ],
   "execution_count": 30
  },
  {
   "metadata": {
    "ExecuteTime": {
     "end_time": "2025-04-12T07:11:43.297512Z",
     "start_time": "2025-04-12T07:11:43.293460Z"
    }
   },
   "cell_type": "code",
   "source": [
    "for seg_type, name, code in filtered_segments:\n",
    "    print(code)\n",
    "    print()"
   ],
   "id": "a3b4e6f205bc4c4",
   "outputs": [
    {
     "name": "stdout",
     "output_type": "stream",
     "text": [
      "    public void methodTwo() {\n",
      "    System.out.println(\"Hello\");\n",
      "    System.out.println(\"Hello\");\n",
      "    System.out.println(\"Hello\");\n",
      "    System.out.println(\"Hello\");\n",
      "    System.out.println(\"Hello\");\n",
      "    System.out.println(\"Hello\");\n",
      "    System.out.println(\"Hello\");\n",
      "\n",
      "    }\n",
      "\n",
      "    public MyClass() {\n",
      "        // constructor\n",
      "    }\n",
      "\n"
     ]
    }
   ],
   "execution_count": 31
  },
  {
   "metadata": {},
   "cell_type": "code",
   "outputs": [],
   "execution_count": null,
   "source": "",
   "id": "5ad1eb0d39405305"
  }
 ],
 "metadata": {
  "kernelspec": {
   "display_name": "Python 3",
   "language": "python",
   "name": "python3"
  },
  "language_info": {
   "codemirror_mode": {
    "name": "ipython",
    "version": 2
   },
   "file_extension": ".py",
   "mimetype": "text/x-python",
   "name": "python",
   "nbconvert_exporter": "python",
   "pygments_lexer": "ipython2",
   "version": "2.7.6"
  }
 },
 "nbformat": 4,
 "nbformat_minor": 5
}
